{
 "cells": [
  {
   "cell_type": "markdown",
   "id": "621f382e",
   "metadata": {},
   "source": [
    "# Imports"
   ]
  },
  {
   "cell_type": "code",
   "execution_count": 1,
   "id": "afef2b80",
   "metadata": {},
   "outputs": [
    {
     "name": "stderr",
     "output_type": "stream",
     "text": [
      "[nltk_data] Downloading package punkt to\n",
      "[nltk_data]     C:\\Users\\pc\\AppData\\Roaming\\nltk_data...\n",
      "[nltk_data]   Package punkt is already up-to-date!\n",
      "[nltk_data] Downloading package stopwords to\n",
      "[nltk_data]     C:\\Users\\pc\\AppData\\Roaming\\nltk_data...\n",
      "[nltk_data]   Package stopwords is already up-to-date!\n"
     ]
    }
   ],
   "source": [
    "import numpy as np\n",
    "import pandas as pd\n",
    "import seaborn as sns\n",
    "import string\n",
    "import re\n",
    "from unidecode import unidecode\n",
    "# Reading and Summarizing Text Data\n",
    "from textblob import TextBlob\n",
    "import nltk\n",
    "nltk.download('punkt')\n",
    "nltk.download(\"stopwords\")\n",
    "from nltk.tokenize import word_tokenize\n",
    "from nltk.corpus import stopwords\n",
    "import gensim\n",
    "from gensim.parsing.preprocessing import STOPWORDS\n"
   ]
  },
  {
   "cell_type": "markdown",
   "id": "61d1aa43",
   "metadata": {},
   "source": [
    "# Feature Engineering"
   ]
  },
  {
   "cell_type": "markdown",
   "id": "5d1314d7",
   "metadata": {},
   "source": [
    "### Read Data"
   ]
  },
  {
   "cell_type": "code",
   "execution_count": 2,
   "id": "d72a6194",
   "metadata": {},
   "outputs": [],
   "source": [
    "data = pd.read_csv(\"amazonreviews.tsv\", delimiter=\"\\t\")"
   ]
  },
  {
   "cell_type": "code",
   "execution_count": 3,
   "id": "e1f935b5",
   "metadata": {},
   "outputs": [
    {
     "data": {
      "text/html": [
       "<div>\n",
       "<style scoped>\n",
       "    .dataframe tbody tr th:only-of-type {\n",
       "        vertical-align: middle;\n",
       "    }\n",
       "\n",
       "    .dataframe tbody tr th {\n",
       "        vertical-align: top;\n",
       "    }\n",
       "\n",
       "    .dataframe thead th {\n",
       "        text-align: right;\n",
       "    }\n",
       "</style>\n",
       "<table border=\"1\" class=\"dataframe\">\n",
       "  <thead>\n",
       "    <tr style=\"text-align: right;\">\n",
       "      <th></th>\n",
       "      <th>label</th>\n",
       "      <th>review</th>\n",
       "    </tr>\n",
       "  </thead>\n",
       "  <tbody>\n",
       "    <tr>\n",
       "      <th>0</th>\n",
       "      <td>pos</td>\n",
       "      <td>Stuning even for the non-gamer: This sound tra...</td>\n",
       "    </tr>\n",
       "    <tr>\n",
       "      <th>1</th>\n",
       "      <td>pos</td>\n",
       "      <td>The best soundtrack ever to anything.: I'm rea...</td>\n",
       "    </tr>\n",
       "    <tr>\n",
       "      <th>2</th>\n",
       "      <td>pos</td>\n",
       "      <td>Amazing!: This soundtrack is my favorite music...</td>\n",
       "    </tr>\n",
       "    <tr>\n",
       "      <th>3</th>\n",
       "      <td>pos</td>\n",
       "      <td>Excellent Soundtrack: I truly like this soundt...</td>\n",
       "    </tr>\n",
       "    <tr>\n",
       "      <th>4</th>\n",
       "      <td>pos</td>\n",
       "      <td>Remember, Pull Your Jaw Off The Floor After He...</td>\n",
       "    </tr>\n",
       "  </tbody>\n",
       "</table>\n",
       "</div>"
      ],
      "text/plain": [
       "  label                                             review\n",
       "0   pos  Stuning even for the non-gamer: This sound tra...\n",
       "1   pos  The best soundtrack ever to anything.: I'm rea...\n",
       "2   pos  Amazing!: This soundtrack is my favorite music...\n",
       "3   pos  Excellent Soundtrack: I truly like this soundt...\n",
       "4   pos  Remember, Pull Your Jaw Off The Floor After He..."
      ]
     },
     "execution_count": 3,
     "metadata": {},
     "output_type": "execute_result"
    }
   ],
   "source": [
    "data.head(5)"
   ]
  },
  {
   "cell_type": "code",
   "execution_count": 4,
   "id": "a40dfec1",
   "metadata": {},
   "outputs": [
    {
     "data": {
      "text/plain": [
       "(10000, 2)"
      ]
     },
     "execution_count": 4,
     "metadata": {},
     "output_type": "execute_result"
    }
   ],
   "source": [
    "# shape of dataset \n",
    "data.shape"
   ]
  },
  {
   "cell_type": "code",
   "execution_count": 5,
   "id": "3c628d25",
   "metadata": {},
   "outputs": [
    {
     "name": "stdout",
     "output_type": "stream",
     "text": [
      "<class 'pandas.core.frame.DataFrame'>\n",
      "RangeIndex: 10000 entries, 0 to 9999\n",
      "Data columns (total 2 columns):\n",
      " #   Column  Non-Null Count  Dtype \n",
      "---  ------  --------------  ----- \n",
      " 0   label   10000 non-null  object\n",
      " 1   review  10000 non-null  object\n",
      "dtypes: object(2)\n",
      "memory usage: 156.4+ KB\n"
     ]
    }
   ],
   "source": [
    "data.info()  "
   ]
  },
  {
   "cell_type": "code",
   "execution_count": 6,
   "id": "4a46949d",
   "metadata": {},
   "outputs": [
    {
     "data": {
      "text/plain": [
       "label\n",
       "neg    5097\n",
       "pos    4903\n",
       "Name: count, dtype: int64"
      ]
     },
     "execution_count": 6,
     "metadata": {},
     "output_type": "execute_result"
    }
   ],
   "source": [
    "data[\"label\"].value_counts()"
   ]
  },
  {
   "cell_type": "code",
   "execution_count": 7,
   "id": "d70e680d",
   "metadata": {},
   "outputs": [
    {
     "data": {
      "text/plain": [
       "<Axes: xlabel='label', ylabel='count'>"
      ]
     },
     "execution_count": 7,
     "metadata": {},
     "output_type": "execute_result"
    },
    {
     "data": {
      "image/png": "[encoded data removed]",
      "text/plain": [
       "<Figure size 640x480 with 1 Axes>"
      ]
     },
     "metadata": {},
     "output_type": "display_data"
    }
   ],
   "source": [
    "sns.countplot(x= data[\"label\"])"
   ]
  },
  {
   "cell_type": "code",
   "execution_count": 8,
   "id": "56f945e3",
   "metadata": {},
   "outputs": [
    {
     "data": {
      "text/plain": [
       "label     0\n",
       "review    0\n",
       "dtype: int64"
      ]
     },
     "execution_count": 8,
     "metadata": {},
     "output_type": "execute_result"
    }
   ],
   "source": [
    "# show the number of null values in data\n",
    "data.isnull().sum()"
   ]
  },
  {
   "cell_type": "code",
   "execution_count": 9,
   "id": "42d34c94",
   "metadata": {},
   "outputs": [],
   "source": [
    "#droup the null value in dataset\n",
    "data = data.dropna()"
   ]
  },
  {
   "cell_type": "code",
   "execution_count": 10,
   "id": "dd8e250f",
   "metadata": {},
   "outputs": [
    {
     "name": "stdout",
     "output_type": "stream",
     "text": [
      "Number of duplicate rows: 0\n"
     ]
    }
   ],
   "source": [
    "#let's check if there is duplicate values\n",
    "duplicates = data[data.duplicated()]\n",
    "print(f'Number of duplicate rows: {len(duplicates)}')"
   ]
  },
  {
   "cell_type": "code",
   "execution_count": 11,
   "id": "10ac0727",
   "metadata": {},
   "outputs": [
    {
     "name": "stdout",
     "output_type": "stream",
     "text": [
      "Duplicates Removed\n"
     ]
    }
   ],
   "source": [
    "data.drop_duplicates(inplace=True)\n",
    "if data.duplicated().sum()==0:   \n",
    "    print('Duplicates Removed')\n",
    "else:\n",
    "    print('there is still duplicates')"
   ]
  },
  {
   "cell_type": "code",
   "execution_count": 12,
   "id": "e2b8e44d",
   "metadata": {},
   "outputs": [
    {
     "data": {
      "text/plain": [
       "label     0\n",
       "review    0\n",
       "dtype: int64"
      ]
     },
     "execution_count": 12,
     "metadata": {},
     "output_type": "execute_result"
    }
   ],
   "source": [
    "# show the number of null values in data After  remove the null values\n",
    "data.isnull().sum()"
   ]
  },
  {
   "cell_type": "code",
   "execution_count": 13,
   "id": "2a4d0772",
   "metadata": {},
   "outputs": [
    {
     "data": {
      "text/plain": [
       "(10000, 2)"
      ]
     },
     "execution_count": 13,
     "metadata": {},
     "output_type": "execute_result"
    }
   ],
   "source": [
    "data.shape"
   ]
  },
  {
   "cell_type": "code",
   "execution_count": 14,
   "id": "86aa1098",
   "metadata": {},
   "outputs": [
    {
     "data": {
      "text/plain": [
       "label\n",
       "neg    5097\n",
       "pos    4903\n",
       "Name: count, dtype: int64"
      ]
     },
     "execution_count": 14,
     "metadata": {},
     "output_type": "execute_result"
    }
   ],
   "source": [
    "data[\"label\"].value_counts()"
   ]
  },
  {
   "cell_type": "code",
   "execution_count": 15,
   "id": "afd7f35c",
   "metadata": {},
   "outputs": [
    {
     "data": {
      "text/html": [
       "<div>\n",
       "<style scoped>\n",
       "    .dataframe tbody tr th:only-of-type {\n",
       "        vertical-align: middle;\n",
       "    }\n",
       "\n",
       "    .dataframe tbody tr th {\n",
       "        vertical-align: top;\n",
       "    }\n",
       "\n",
       "    .dataframe thead th {\n",
       "        text-align: right;\n",
       "    }\n",
       "</style>\n",
       "<table border=\"1\" class=\"dataframe\">\n",
       "  <thead>\n",
       "    <tr style=\"text-align: right;\">\n",
       "      <th></th>\n",
       "      <th>label</th>\n",
       "      <th>review</th>\n",
       "    </tr>\n",
       "  </thead>\n",
       "  <tbody>\n",
       "    <tr>\n",
       "      <th>count</th>\n",
       "      <td>10000</td>\n",
       "      <td>10000</td>\n",
       "    </tr>\n",
       "    <tr>\n",
       "      <th>unique</th>\n",
       "      <td>2</td>\n",
       "      <td>10000</td>\n",
       "    </tr>\n",
       "    <tr>\n",
       "      <th>top</th>\n",
       "      <td>neg</td>\n",
       "      <td>Stuning even for the non-gamer: This sound tra...</td>\n",
       "    </tr>\n",
       "    <tr>\n",
       "      <th>freq</th>\n",
       "      <td>5097</td>\n",
       "      <td>1</td>\n",
       "    </tr>\n",
       "  </tbody>\n",
       "</table>\n",
       "</div>"
      ],
      "text/plain": [
       "        label                                             review\n",
       "count   10000                                              10000\n",
       "unique      2                                              10000\n",
       "top       neg  Stuning even for the non-gamer: This sound tra...\n",
       "freq     5097                                                  1"
      ]
     },
     "execution_count": 15,
     "metadata": {},
     "output_type": "execute_result"
    }
   ],
   "source": [
    "data.describe()"
   ]
  },
  {
   "cell_type": "code",
   "execution_count": 16,
   "id": "2f123bb4",
   "metadata": {},
   "outputs": [
    {
     "name": "stdout",
     "output_type": "stream",
     "text": [
      "review\n",
      "Stuning even for the non-gamer: This sound track was beautiful! It paints the senery in your mind so well I would recomend it even to people who hate vid. game music! I have played the game Chrono Cross but out of all of the games I have ever played it has the best music! It backs away from crude keyboarding and takes a fresher step with grate guitars and soulful orchestras. It would impress anyone who cares to listen! ^_^                                                                                                                                                                                                                                                                                                                                                                                                                                                                                                                                                1\n",
      "Excellent perspective from a member of Scott Fischers' team: A refreshing account of the 96 Mountain Madness Everest expedition from a women who must command respect from the mountaineering world. This book is an inspiration to those who follow their dreams, and go beyond just setting goals in life, regardless of what that may be. A MUST read for anyone who's read Into Thin Air, The Climb, or The Other Side of Everest. I'd recommend catching one of her bookstore appearances as well!                                                                                                                                                                                                                                                                                                                                                                                                                                                                                   1\n",
      "SAVE YOUR MONEY: If you feel you are interested in reading this book I suggest you save your money and wait till you find it at a garge sale for a quarter. Then read it only when it's one of those days where you just can't find anything else to read.She claimed to have been a mountain climber before Everest, but yet she had to ask other people what she needed to purchase for that climb. I would think that a \"Mountain Climber\" would have known what to purchase as far as equipment needed.She talks of this Zen responsibility then turns around to inform the readers of how Sandy Pittman is having an affair going on in her tent, of how Anatoli Boukreev's girlfriend \"tip-toes\" each afternoon to his tent to spend the night with him. I then ask myself, I wonder whose tent she was \"tip-toeing\" to, with the \"sexy green underware\" she speaks of in her book. Hmm?The book has nothing to do with Mountain Climbing if that is what you are interested in.    1\n",
      "BORING SELF-INDULGENT DRIVEL: As another woman who has actually reached the summit of Mt. Everest, I found this book to be nothing more than self-indulgent \"New Age\" drivel. Gammelgaard offers no insight into why the disaster happened and virtualy ignores the other climbers who were on Everest that day. The book has none of the gripping suspense of Into Thin Air and none of the factual reporting of The Climb. I'm happy Gammelgaard survived but she should turn her attentions to things other than writing. One of the worst books I've yet to read!                                                                                                                                                                                                                                                                                                                                                                                                                     1\n",
      "Self-absorbed garbage: Of all that has been written about the 1996 Everest tragedy of errors, this is the weakest piece. It consists mainly of diary excerpts and the author's commentaries on them. The only insights for the reader are into the mind of an enormously driven, self-indulgent, and self-absorbed person. Reading this book is a waste of time and money.                                                                                                                                                                                                                                                                                                                                                                                                                                                                                                                                                                                                                1\n",
      "                                                                                                                                                                                                                                                                                                                                                                                                                                                                                                                                                                                                                                                                                                                                                                                                                                                                                                                                                                                         ..\n",
      "Heavy and Stiff: I'd ordered these boots based on decent reviews and price. I rarely return purchases to Amazon but I did return these. The boots were fairly heavy, stiff and narrow. I get that new boots will be stiff but both the uppers and lowers were too stiff for me. I returned them and bought Adidas boots with Gore Tex uppers which were much more comfortable, flexible and light with good sole traction.                                                                                                                                                                                                                                                                                                                                                                                                                                                                                                                                                                1\n",
      "not up to her standards: not nearly as good as her usual work if your hoping to hear her forget it it is a pale comparison with authors who don't have her style                                                                                                                                                                                                                                                                                                                                                                                                                                                                                                                                                                                                                                                                                                                                                                                                                          1\n",
      "Is this a junk book?: In the name of science, you will try to prove with propagande;if you really want to decode how junk scientifics manipulate the world: go http://nomorefakenews.com and do not buy this junk BOOK!                                                                                                                                                                                                                                                                                                                                                                                                                                                                                                                                                                                                                                                                                                                                                                   1\n",
      "I'm great, everyone else stinks: I am sympathetic to the perspective of this author, but not to his arrogance or all of his smug conclusions. He is too much the demagogue for my taste, liking as much to degrade as to disagree with his adversaries. This is well beneath the normal standards of his sponsor, The Cato Institute, which usually holds to an exceptionally high standard.I much prefer the similar but far more intelligent and respectful works of Warren Brookes and Julian Simon. They were so good they didn't require \"attitude.\" In contrast this author is frequently on TV, the perfect medium for the condescending sneer which is his mien. This book doesn't belong on the shelf with Henry Mencken, who wickedly and hilariously debunked quacks. Pass on this and buy \"The Vintage Mencken\" to read his evisceration of chiropractic.                                                                                                                     1\n",
      "Beautiful Pen and Fast Delivery.: The pen was shipped promptly. This is the classic Montblanc pen that everyone raves about. It is Black in color with Golden Trim. It holds it's own and I am thankful to my parents to gift this to me as a Graduation Present. Someday I plan on buying more of these pens from Amazon.The vendors at Amazon are amazing. I have been a long time shopper at Amazon, mostly pens and electronics. However this pen was gifted to me by my mom and she has nothing but good things to say. I on my part love this pen.                                                                                                                                                                                                                                                                                                                                                                                                                                  1\n",
      "Name: count, Length: 10000, dtype: int64\n"
     ]
    }
   ],
   "source": [
    "print(data[\"review\"].value_counts())"
   ]
  },
  {
   "cell_type": "code",
   "execution_count": 17,
   "id": "5d8ad1e0",
   "metadata": {},
   "outputs": [
    {
     "data": {
      "text/plain": [
       "0       426\n",
       "1       509\n",
       "2       760\n",
       "3       743\n",
       "4       481\n",
       "       ... \n",
       "9995    867\n",
       "9996    861\n",
       "9997    650\n",
       "9998    135\n",
       "9999    536\n",
       "Name: length, Length: 10000, dtype: int64"
      ]
     },
     "execution_count": 17,
     "metadata": {},
     "output_type": "execute_result"
    }
   ],
   "source": [
    "# Length: refers to the number of characters, words, or sentences in a piece of text.\n",
    "\n",
    "#Polarity and Subjectivity\n",
    "\n",
    "data[\"length\"] = data[\"review\"].apply(len)\n",
    "\n",
    "data[\"length\"]"
   ]
  },
  {
   "cell_type": "code",
   "execution_count": 18,
   "id": "59f7166e",
   "metadata": {},
   "outputs": [],
   "source": [
    "#Polarity refers to the sentiment or the degree of positivity or negativity in a piece of text. \n",
    "def get_polarity(text):\n",
    "    textblob = TextBlob(str(text.encode(\"utf-8\")))\n",
    "    pol = textblob.sentiment.polarity\n",
    "    return pol\n",
    "\n",
    "#Subjectivity: Subjectivity refers to the degree of objectivity or subjectivity in a piece of text.\n",
    "def get_subjectivity(text):\n",
    "    textblob = TextBlob(str(text.encode(\"utf-8\")))\n",
    "    pol = textblob.sentiment.subjectivity\n",
    "    return pol"
   ]
  },
  {
   "cell_type": "code",
   "execution_count": 19,
   "id": "0429b79b",
   "metadata": {},
   "outputs": [
    {
     "data": {
      "text/html": [
       "<div>\n",
       "<style scoped>\n",
       "    .dataframe tbody tr th:only-of-type {\n",
       "        vertical-align: middle;\n",
       "    }\n",
       "\n",
       "    .dataframe tbody tr th {\n",
       "        vertical-align: top;\n",
       "    }\n",
       "\n",
       "    .dataframe thead th {\n",
       "        text-align: right;\n",
       "    }\n",
       "</style>\n",
       "<table border=\"1\" class=\"dataframe\">\n",
       "  <thead>\n",
       "    <tr style=\"text-align: right;\">\n",
       "      <th></th>\n",
       "      <th>length</th>\n",
       "      <th>Polarity</th>\n",
       "      <th>Subjectivity</th>\n",
       "    </tr>\n",
       "  </thead>\n",
       "  <tbody>\n",
       "    <tr>\n",
       "      <th>count</th>\n",
       "      <td>10000.000000</td>\n",
       "      <td>10000.000000</td>\n",
       "      <td>10000.000000</td>\n",
       "    </tr>\n",
       "    <tr>\n",
       "      <th>mean</th>\n",
       "      <td>438.695400</td>\n",
       "      <td>0.145060</td>\n",
       "      <td>0.532437</td>\n",
       "    </tr>\n",
       "    <tr>\n",
       "      <th>std</th>\n",
       "      <td>239.241132</td>\n",
       "      <td>0.247260</td>\n",
       "      <td>0.149731</td>\n",
       "    </tr>\n",
       "    <tr>\n",
       "      <th>min</th>\n",
       "      <td>101.000000</td>\n",
       "      <td>-1.000000</td>\n",
       "      <td>0.000000</td>\n",
       "    </tr>\n",
       "    <tr>\n",
       "      <th>25%</th>\n",
       "      <td>238.000000</td>\n",
       "      <td>0.000000</td>\n",
       "      <td>0.447712</td>\n",
       "    </tr>\n",
       "    <tr>\n",
       "      <th>50%</th>\n",
       "      <td>391.000000</td>\n",
       "      <td>0.150000</td>\n",
       "      <td>0.533889</td>\n",
       "    </tr>\n",
       "    <tr>\n",
       "      <th>75%</th>\n",
       "      <td>605.000000</td>\n",
       "      <td>0.298713</td>\n",
       "      <td>0.620888</td>\n",
       "    </tr>\n",
       "    <tr>\n",
       "      <th>max</th>\n",
       "      <td>1015.000000</td>\n",
       "      <td>1.000000</td>\n",
       "      <td>1.000000</td>\n",
       "    </tr>\n",
       "  </tbody>\n",
       "</table>\n",
       "</div>"
      ],
      "text/plain": [
       "             length      Polarity  Subjectivity\n",
       "count  10000.000000  10000.000000  10000.000000\n",
       "mean     438.695400      0.145060      0.532437\n",
       "std      239.241132      0.247260      0.149731\n",
       "min      101.000000     -1.000000      0.000000\n",
       "25%      238.000000      0.000000      0.447712\n",
       "50%      391.000000      0.150000      0.533889\n",
       "75%      605.000000      0.298713      0.620888\n",
       "max     1015.000000      1.000000      1.000000"
      ]
     },
     "execution_count": 19,
     "metadata": {},
     "output_type": "execute_result"
    }
   ],
   "source": [
    "data[\"Polarity\"] = data[\"review\"].apply(get_polarity)\n",
    "data[\"Subjectivity\"] = data[\"review\"].apply(get_subjectivity)\n",
    "\n",
    "data[['length', 'Polarity', 'Subjectivity']].describe()"
   ]
  },
  {
   "cell_type": "code",
   "execution_count": 20,
   "id": "a97a9057",
   "metadata": {},
   "outputs": [
    {
     "data": {
      "text/html": [
       "<div>\n",
       "<style scoped>\n",
       "    .dataframe tbody tr th:only-of-type {\n",
       "        vertical-align: middle;\n",
       "    }\n",
       "\n",
       "    .dataframe tbody tr th {\n",
       "        vertical-align: top;\n",
       "    }\n",
       "\n",
       "    .dataframe thead th {\n",
       "        text-align: right;\n",
       "    }\n",
       "</style>\n",
       "<table border=\"1\" class=\"dataframe\">\n",
       "  <thead>\n",
       "    <tr style=\"text-align: right;\">\n",
       "      <th></th>\n",
       "      <th>charsCount</th>\n",
       "      <th>wordCount</th>\n",
       "      <th>word_density</th>\n",
       "    </tr>\n",
       "  </thead>\n",
       "  <tbody>\n",
       "    <tr>\n",
       "      <th>count</th>\n",
       "      <td>10000.000000</td>\n",
       "      <td>10000.000000</td>\n",
       "      <td>10000.000000</td>\n",
       "    </tr>\n",
       "    <tr>\n",
       "      <th>mean</th>\n",
       "      <td>438.695400</td>\n",
       "      <td>79.553100</td>\n",
       "      <td>5.423047</td>\n",
       "    </tr>\n",
       "    <tr>\n",
       "      <th>std</th>\n",
       "      <td>239.241132</td>\n",
       "      <td>43.023225</td>\n",
       "      <td>0.447279</td>\n",
       "    </tr>\n",
       "    <tr>\n",
       "      <th>min</th>\n",
       "      <td>101.000000</td>\n",
       "      <td>14.000000</td>\n",
       "      <td>3.966667</td>\n",
       "    </tr>\n",
       "    <tr>\n",
       "      <th>25%</th>\n",
       "      <td>238.000000</td>\n",
       "      <td>43.000000</td>\n",
       "      <td>5.122718</td>\n",
       "    </tr>\n",
       "    <tr>\n",
       "      <th>50%</th>\n",
       "      <td>391.000000</td>\n",
       "      <td>71.000000</td>\n",
       "      <td>5.393939</td>\n",
       "    </tr>\n",
       "    <tr>\n",
       "      <th>75%</th>\n",
       "      <td>605.000000</td>\n",
       "      <td>109.000000</td>\n",
       "      <td>5.689777</td>\n",
       "    </tr>\n",
       "    <tr>\n",
       "      <th>max</th>\n",
       "      <td>1015.000000</td>\n",
       "      <td>212.000000</td>\n",
       "      <td>8.457143</td>\n",
       "    </tr>\n",
       "  </tbody>\n",
       "</table>\n",
       "</div>"
      ],
      "text/plain": [
       "         charsCount     wordCount  word_density\n",
       "count  10000.000000  10000.000000  10000.000000\n",
       "mean     438.695400     79.553100      5.423047\n",
       "std      239.241132     43.023225      0.447279\n",
       "min      101.000000     14.000000      3.966667\n",
       "25%      238.000000     43.000000      5.122718\n",
       "50%      391.000000     71.000000      5.393939\n",
       "75%      605.000000    109.000000      5.689777\n",
       "max     1015.000000    212.000000      8.457143"
      ]
     },
     "execution_count": 20,
     "metadata": {},
     "output_type": "execute_result"
    }
   ],
   "source": [
    "# Words , Characters and punctuation\n",
    "\n",
    "data[\"charsCount\"] = data[\"review\"].apply(len)\n",
    "data[\"wordCount\"] = data[\"review\"].apply(lambda x: len(x.split()))\n",
    "data[\"word_density\"] = data[\"charsCount\"] / (data[\"wordCount\"]+1)\n",
    "\n",
    "data[['charsCount', 'wordCount', 'word_density']].describe()"
   ]
  },
  {
   "cell_type": "code",
   "execution_count": 21,
   "id": "2e657ec8",
   "metadata": {},
   "outputs": [
    {
     "name": "stdout",
     "output_type": "stream",
     "text": [
      "!\"#$%&'()*+,-./:;<=>?@[\\]^_`{|}~\n",
      "\n",
      "         charsCount     wordCount  word_density  punctuation_count\n",
      "count  10000.000000  10000.000000  10000.000000       10000.000000\n",
      "mean     438.695400     79.553100      5.423047          14.571900\n",
      "std      239.241132     43.023225      0.447279           9.624245\n",
      "min      101.000000     14.000000      3.966667           1.000000\n",
      "25%      238.000000     43.000000      5.122718           8.000000\n",
      "50%      391.000000     71.000000      5.393939          12.000000\n",
      "75%      605.000000    109.000000      5.689777          19.000000\n",
      "max     1015.000000    212.000000      8.457143         229.000000\n",
      "  label                                             review  length  Polarity   \n",
      "0   pos  Stuning even for the non-gamer: This sound tra...     426 -0.021875  \\\n",
      "1   pos  The best soundtrack ever to anything.: I'm rea...     509  0.261111   \n",
      "2   pos  Amazing!: This soundtrack is my favorite music...     760  0.274691   \n",
      "3   pos  Excellent Soundtrack: I truly like this soundt...     743  0.272727   \n",
      "4   pos  Remember, Pull Your Jaw Off The Floor After He...     481  0.324802   \n",
      "\n",
      "   Subjectivity  charsCount  wordCount  word_density  punctuation_count  \n",
      "0      0.550000         426         80      5.259259                 11  \n",
      "1      0.517460         509         97      5.193878                 14  \n",
      "2      0.545988         760        129      5.846154                 40  \n",
      "3      0.463636         743        118      6.243697                 33  \n",
      "4      0.520317         481         87      5.465909                 22  \n"
     ]
    }
   ],
   "source": [
    "punctuation = string.punctuation\n",
    "\n",
    "print(punctuation , end = \"\\n\\n\")\n",
    "\n",
    "# calculating count of punctuation\n",
    "data['punctuation_count'] = data['review'].apply(lambda x: len(\"\".join(_ for _ in x if _ in punctuation)))\n",
    "\n",
    "print(data[['charsCount', 'wordCount', 'word_density', 'punctuation_count']].describe())\n",
    "print(data.head())"
   ]
  },
  {
   "cell_type": "markdown",
   "id": "d7ace878",
   "metadata": {},
   "source": [
    "# Data Cleaning"
   ]
  },
  {
   "cell_type": "code",
   "execution_count": 22,
   "id": "ef0ab118",
   "metadata": {},
   "outputs": [
    {
     "data": {
      "text/plain": [
       "0    stuning even for the non-gamer: this sound tra...\n",
       "1    the best soundtrack ever to anything.: i'm rea...\n",
       "2    amazing!: this soundtrack is my favorite music...\n",
       "3    excellent soundtrack: i truly like this soundt...\n",
       "4    remember, pull your jaw off the floor after he...\n",
       "Name: review, dtype: object"
      ]
     },
     "execution_count": 22,
     "metadata": {},
     "output_type": "execute_result"
    }
   ],
   "source": [
    "#lower case\n",
    "data['review'] = data['review'].apply(lambda x:  x.lower())\n",
    "\n",
    "data['review'].head()"
   ]
  },
  {
   "cell_type": "code",
   "execution_count": 23,
   "id": "c3be7f9d",
   "metadata": {},
   "outputs": [
    {
     "data": {
      "text/plain": [
       "0    stuning even for the nongamer this sound track...\n",
       "1    the best soundtrack ever to anything im readin...\n",
       "2    amazing this soundtrack is my favorite music o...\n",
       "3    excellent soundtrack i truly like this soundtr...\n",
       "4    remember pull your jaw off the floor after hea...\n",
       "Name: review, dtype: object"
      ]
     },
     "execution_count": 23,
     "metadata": {},
     "output_type": "execute_result"
    }
   ],
   "source": [
    "# remove punctuations\n",
    "def punctuation_removal(messy_text):\n",
    "    clean_list = [char for char in messy_text if char not in string.punctuation]\n",
    "    clean_str = ''.join(clean_list)\n",
    "    return clean_str\n",
    "\n",
    "data['review'] = data['review'].apply(punctuation_removal)\n",
    "\n",
    "data['review'].head()"
   ]
  },
  {
   "cell_type": "code",
   "execution_count": 24,
   "id": "27545ff8",
   "metadata": {},
   "outputs": [
    {
     "data": {
      "text/plain": [
       "0    stuning even for the nongamer this sound track...\n",
       "1    the best soundtrack ever to anything im readin...\n",
       "2    amazing this soundtrack is my favorite music o...\n",
       "3    excellent soundtrack i truly like this soundtr...\n",
       "4    remember pull your jaw off the floor after hea...\n",
       "Name: review, dtype: object"
      ]
     },
     "execution_count": 24,
     "metadata": {},
     "output_type": "execute_result"
    }
   ],
   "source": [
    "# removing numbers\n",
    "\n",
    "def numbers_removal(list_text):\n",
    "    list_text_new = []\n",
    "    for i in list_text:\n",
    "        if not re.search('\\d',i):\n",
    "            list_text_new.append(i)\n",
    "    return ''.join(list_text_new)\n",
    "\n",
    "\n",
    "data['review'] = data['review'].apply(numbers_removal)\n",
    "\n",
    "data['review'].head()"
   ]
  },
  {
   "cell_type": "code",
   "execution_count": 25,
   "id": "15b186ae",
   "metadata": {},
   "outputs": [
    {
     "data": {
      "text/plain": [
       "0    stuning even for the nongamer this sound track...\n",
       "1    the best soundtrack ever to anything im readin...\n",
       "2    amazing this soundtrack is my favorite music o...\n",
       "3    excellent soundtrack i truly like this soundtr...\n",
       "4    remember pull your jaw off the floor after hea...\n",
       "Name: review, dtype: object"
      ]
     },
     "execution_count": 25,
     "metadata": {},
     "output_type": "execute_result"
    }
   ],
   "source": [
    "#Removing Emails\n",
    "def remove_Emails(text):\n",
    "    pattern=r'\\S+@\\S+'\n",
    "    text=re.sub(pattern,'',text)\n",
    "    return text\n",
    "\n",
    "#Removing URLS\n",
    "def remove_URLS(text):\n",
    "    pattern=r'http\\S+'\n",
    "    text=re.sub(pattern,'',text)\n",
    "    return text\n",
    "\n",
    "data['review'] = data['review'].apply(remove_Emails ,remove_URLS )\n",
    "\n",
    "data['review'].head()"
   ]
  },
  {
   "cell_type": "code",
   "execution_count": 26,
   "id": "874bce5b",
   "metadata": {},
   "outputs": [
    {
     "data": {
      "text/plain": [
       "0    stuning even for the nongamer this sound track...\n",
       "1    the best soundtrack ever to anything im readin...\n",
       "2    amazing this soundtrack is my favorite music o...\n",
       "3    excellent soundtrack i truly like this soundtr...\n",
       "4    remember pull your jaw off the floor after hea...\n",
       "Name: review, dtype: object"
      ]
     },
     "execution_count": 26,
     "metadata": {},
     "output_type": "execute_result"
    }
   ],
   "source": [
    "# removing Special Characters & accents\n",
    "\n",
    "def special_char_removal(text):\n",
    "    pat = r'^[a-zA-Z0-9]'\n",
    "    string = re.sub(pat,'',text[0]+text)\n",
    "    return unidecode(string)\n",
    "\n",
    "data['review'] = data.apply(lambda x:  special_char_removal(x['review']),axis=1)\n",
    "\n",
    "data['review'].head()"
   ]
  },
  {
   "cell_type": "code",
   "execution_count": 27,
   "id": "5877ebcd",
   "metadata": {},
   "outputs": [
    {
     "name": "stdout",
     "output_type": "stream",
     "text": [
      "{'ourselves', 'are', 'each', 'seems', 'besides', 'whereas', 'interest', 'de', 'found', 'did', 'wherein', 'now', 'we', 'done', 'namely', 'herein', 'everyone', 'they', 'from', 'made', 'one', 'thick', 'using', 'ours', 'used', 'anything', 'an', 'because', 'all', 'ie', 'she', 'hers', 'those', 'upon', 'please', 'this', 'only', 'always', 'beyond', 'same', 'further', 'might', 'amongst', 'part', 'never', 'them', 'wherever', 'cannot', 'next', 'per', 'very', 'thereupon', 'via', 'hereupon', 'whoever', 'into', 'mill', 'no', 'neither', 'enough', 'fill', 'nor', 'eight', 'detail', 'already', 'often', 'how', 'meanwhile', 'afterwards', 'somehow', 'must', 'move', 'thence', 'about', 'between', 'perhaps', 'so', 'has', 'on', 'serious', 'above', 'don', 'again', 'until', 'anyone', 'several', 'together', 'along', 'own', 'during', 'nevertheless', 'yours', 'everywhere', 'fifteen', 'two', 'ever', 'rather', 'etc', 'hence', 'its', 'first', 'mine', 'full', 'amount', 'my', 'whole', 'throughout', 'by', 'what', 'that', 'seem', 'such', 'even', 'otherwise', 'their', 'various', 'beforehand', 'few', 'name', 'show', 'as', 'have', 'none', 'and', 'un', 'me', 'go', 'fifty', 'for', 'thus', 'across', 'sincere', 'hundred', 'former', 'any', 'empty', 'he', 'becomes', 'get', 'however', 'yourselves', 'will', 'can', 'bottom', 'see', 'kg', 'something', 'other', 'doesn', 'bill', 'eg', 'up', 'yourself', 'whether', 'became', 'whereafter', 'is', 'nine', 'more', 'which', 'either', 'cry', 'somewhere', 'us', 'thru', 'almost', 'back', 'could', 'while', 'six', 'whereupon', 'five', 'amoungst', 'doing', 'should', 'couldnt', 'you', 'being', 'sixty', 'be', 'am', 'your', 'nowhere', 'around', 'front', 'didn', 'once', 'third', 'although', 'yet', 'call', 'just', 'whose', 'before', 'why', 'put', 'within', 'was', 'him', 'well', 'else', 'sometime', 'but', 'give', 'then', 'co', 'twelve', 'behind', 'someone', 'if', 'keep', 'when', 'not', 'hereafter', 'most', 'twenty', 'ten', 'unless', 'everything', 'thereby', 'would', 'less', 'toward', 'quite', 'among', 'cant', 'of', 'last', 'since', 're', 'much', 'through', 'regarding', 'eleven', 'himself', 'whenever', 'herself', 'become', 'some', 'due', 'latterly', 'many', 'nobody', 'thin', 'who', 'whither', 'three', 'our', 'top', 'in', 'out', 'against', 'fire', 'had', 'may', 'every', 'find', 'seemed', 'another', 'nothing', 'over', 'except', 'really', 'con', 'thereafter', 'alone', 'to', 'therefore', 'than', 'side', 'becoming', 'say', 'still', 'too', 'her', 'whereby', 'does', 'towards', 'km', 'elsewhere', 'there', 'onto', 'anyhow', 'without', 'computer', 'formerly', 'below', 'been', 'make', 'whom', 'it', 'the', 'where', 'with', 'least', 'myself', 'describe', 'at', 'beside', 'a', 'his', 'system', 'itself', 'forty', 'though', 'indeed', 'others', 'do', 'moreover', 'hereby', 'hasnt', 'after', 'i', 'down', 'latter', 'here', 'off', 'therein', 'inc', 'were', 'or', 'whence', 'sometimes', 'ltd', 'themselves', 'four', 'both', 'also', 'mostly', 'anywhere', 'take', 'these', 'anyway', 'whatever', 'seeming', 'noone', 'under'}\n",
      "\n",
      "{'other', 'doesn', 'ourselves', 'are', 'each', 'up', 'yourself', 've', 'is', 't', 'more', \"hadn't\", 'did', 'which', 'now', 'we', 'they', 'mightn', 'needn', \"you'll\", \"you've\", 'while', 'from', 'weren', 'doing', 'should', 'couldn', 'you', 'being', \"mightn't\", 'ours', 'be', 'your', 'am', \"shouldn't\", 'didn', 'once', \"it's\", 'an', 'because', 'all', \"don't\", 'she', 'those', 'hers', 's', 'just', 'before', 'why', 'this', 'was', 'only', 'him', 'same', \"weren't\", 'further', 'haven', 'theirs', 'but', 'then', 'if', 'them', \"aren't\", 'when', 'not', 'most', 'wasn', 'very', \"you'd\", 'having', 'into', 'mustn', 'no', \"doesn't\", 'of', 're', 'nor', 'through', 'himself', 'herself', \"wouldn't\", 'some', 'how', 'd', \"mustn't\", 'who', 'y', 'about', 'our', 'in', 'against', 'between', 'out', 'so', 'has', 'had', 'on', 'above', 'over', 'again', 'until', 'don', 'hasn', 'shan', 'hadn', 'to', 'own', 'during', 'than', 'm', 'ain', 'yours', 'too', 'her', 'does', 'there', \"couldn't\", 'its', 'o', \"wasn't\", \"needn't\", 'my', 'been', 'below', \"won't\", \"should've\", 'what', 'by', 'it', 'whom', 'that', 'the', 'such', 'with', 'where', \"shan't\", 'myself', \"she's\", 'their', \"you're\", 'a', 'at', \"hasn't\", 'his', 'few', 'as', 'itself', 'wouldn', 'do', 'have', 'and', 'me', 'after', 'i', 'down', 'won', 'for', 'here', \"haven't\", 'ma', 'off', 'were', 'or', 'themselves', 'll', 'any', 'both', 'he', \"didn't\", 'aren', \"that'll\", 'isn', 'shouldn', 'these', 'yourselves', 'will', 'can', 'under', \"isn't\"}\n"
     ]
    }
   ],
   "source": [
    "# Stop Words in nltk \n",
    "stop_word = set(STOPWORDS)\n",
    "print(stop_word , end = '\\n\\n')\n",
    "stop_words = set(stopwords.words('english'))\n",
    "print(stop_words)\n",
    "\n",
    "def remove_stopwords_custom(text):\n",
    "    # Tokenize the text\n",
    "    tokens = nltk.word_tokenize(text)\n",
    "    # Remove stopwords from the list of tokens\n",
    "    tokens_filtere = [word for word in tokens if word.lower() not in stop_words]\n",
    "    tokens_filtered = [word for word in tokens_filtere if word.lower() not in stop_word]\n",
    "    # Join the list of tokens back into a single string\n",
    "    text_filtered = ' '.join(tokens_filtered)\n",
    "    # Remove additional unwanted characters using a decoding method\n",
    "    text_filtered = text_filtered.encode('ascii', 'ignore').decode('utf-8')\n",
    "    return text_filtered\n",
    "\n",
    "data['review'] = data['review'].apply(remove_stopwords_custom)"
   ]
  },
  {
   "cell_type": "code",
   "execution_count": 28,
   "id": "901f4480",
   "metadata": {},
   "outputs": [
    {
     "data": {
      "text/plain": [
       "0    stuning nongamer sound track beautiful paints ...\n",
       "1    best soundtrack im reading lot reviews saying ...\n",
       "2    amazing soundtrack favorite music time hands i...\n",
       "3    excellent soundtrack truly like soundtrack enj...\n",
       "4    remember pull jaw floor hearing youve played g...\n",
       "Name: review, dtype: object"
      ]
     },
     "execution_count": 28,
     "metadata": {},
     "output_type": "execute_result"
    }
   ],
   "source": [
    "data['review'].head()"
   ]
  },
  {
   "cell_type": "code",
   "execution_count": 29,
   "id": "5d2cc3b1",
   "metadata": {},
   "outputs": [],
   "source": [
    "# function for stemming\n",
    "\n",
    "def get_stem(text):\n",
    "    stemmer = nltk.porter.PorterStemmer()\n",
    "    text = ' '.join([stemmer.stem(word) for word in text.split()])\n",
    "    return text\n",
    "\n",
    "data['review'] = data['review'].apply(get_stem)"
   ]
  },
  {
   "cell_type": "code",
   "execution_count": 30,
   "id": "bc897fc4",
   "metadata": {},
   "outputs": [
    {
     "data": {
      "text/plain": [
       "0    stune nongam sound track beauti paint seneri m...\n",
       "1    best soundtrack im read lot review say best ga...\n",
       "2    amaz soundtrack favorit music time hand intens...\n",
       "3    excel soundtrack truli like soundtrack enjoy v...\n",
       "4    rememb pull jaw floor hear youv play game know...\n",
       "Name: review, dtype: object"
      ]
     },
     "execution_count": 30,
     "metadata": {},
     "output_type": "execute_result"
    }
   ],
   "source": [
    "data['review'].head()"
   ]
  },
  {
   "cell_type": "code",
   "execution_count": 31,
   "id": "096b5552",
   "metadata": {},
   "outputs": [],
   "source": [
    "# function for lemmatization\n",
    "import spacy\n",
    "nlp = spacy.load('en_core_web_sm')\n",
    "\n",
    "def get_lem(text):\n",
    "    text = nlp(text)\n",
    "    lemmatized_sentence = \" \".join([word.lemma_ for word in text])\n",
    "    return lemmatized_sentence\n",
    "\n",
    "    \n",
    "\n",
    "\n",
    "data['review'] = data['review'].apply(get_lem)"
   ]
  },
  {
   "cell_type": "code",
   "execution_count": 32,
   "id": "c40acdc8",
   "metadata": {},
   "outputs": [
    {
     "data": {
      "text/plain": [
       "0    stune nongam sound track beauti paint seneri m...\n",
       "1    good soundtrack I m read lot review say good g...\n",
       "2    amaz soundtrack favorit music time hand inten ...\n",
       "3    excel soundtrack truli like soundtrack enjoy v...\n",
       "4    rememb pull jaw floor hear youv play game know...\n",
       "Name: review, dtype: object"
      ]
     },
     "execution_count": 32,
     "metadata": {},
     "output_type": "execute_result"
    }
   ],
   "source": [
    "data['review'].head()"
   ]
  },
  {
   "cell_type": "markdown",
   "id": "1dca6b22",
   "metadata": {},
   "source": [
    "# Feature Extraction"
   ]
  },
  {
   "cell_type": "code",
   "execution_count": 33,
   "id": "b36d5af8",
   "metadata": {},
   "outputs": [
    {
     "name": "stdout",
     "output_type": "stream",
     "text": [
      "[1 1 1 ... 0 0 1]\n"
     ]
    }
   ],
   "source": [
    "# label encoder\n",
    "from sklearn.preprocessing import LabelEncoder\n",
    "\n",
    "labels = data['label']\n",
    "encoder = LabelEncoder()\n",
    "label = encoder.fit_transform(labels)\n",
    "print(label)"
   ]
  },
  {
   "cell_type": "code",
   "execution_count": 34,
   "id": "bc004de7",
   "metadata": {},
   "outputs": [
    {
     "name": "stdout",
     "output_type": "stream",
     "text": [
      "[0. 0. 0. ... 0. 0. 0.]\n"
     ]
    }
   ],
   "source": [
    "#bag of words\n",
    "from sklearn.feature_extraction.text import TfidfVectorizer\n",
    "#from sklearn.feature_extraction.text import CountVectorizer\n",
    "\n",
    "\n",
    "cv = TfidfVectorizer(max_features=9000,ngram_range=(1,50))\n",
    "\n",
    "X = cv.fit_transform(data['review']).toarray()\n",
    "\n",
    "\n",
    "idf_values = cv.idf_\n",
    "\n",
    "\n",
    "vocabulary = cv.vocabulary_\n"
   ]
  },
  {
   "cell_type": "code",
   "execution_count": 36,
   "id": "6094f38a",
   "metadata": {},
   "outputs": [],
   "source": [
    "from sklearn.model_selection import train_test_split\n",
    "\n",
    "X_train , X_test , y_train , y_test = train_test_split ( X , label , test_size= 0.2 ,shuffle= True )"
   ]
  },
  {
   "cell_type": "code",
   "execution_count": 37,
   "id": "968d1209",
   "metadata": {},
   "outputs": [
    {
     "data": {
      "text/plain": [
       "(8000, 9000)"
      ]
     },
     "execution_count": 37,
     "metadata": {},
     "output_type": "execute_result"
    }
   ],
   "source": [
    "X_train.shape"
   ]
  },
  {
   "cell_type": "markdown",
   "id": "afbedfeb",
   "metadata": {},
   "source": [
    "# Bulid model "
   ]
  },
  {
   "cell_type": "code",
   "execution_count": 38,
   "id": "40b30a72",
   "metadata": {},
   "outputs": [
    {
     "name": "stdout",
     "output_type": "stream",
     "text": [
      "MultinomialNB:  0.8385\n",
      "SVC:  0.855\n",
      "GaussianNB:  0.7265\n",
      "NearestNeighbors:  0.805\n",
      "DecisionTreeClassifier:  0.7185\n",
      "LogisticRegression:  0.8575\n",
      "RandomForestClassifier:  0.834\n"
     ]
    }
   ],
   "source": [
    "from sklearn.naive_bayes import MultinomialNB \n",
    "from sklearn.svm import SVC\n",
    "from sklearn.naive_bayes import GaussianNB\n",
    "from sklearn.neighbors import KNeighborsClassifier\n",
    "from sklearn.tree import DecisionTreeClassifier\n",
    "from sklearn.linear_model import LogisticRegression\n",
    "from sklearn.ensemble import RandomForestClassifier\n",
    "\n",
    "\n",
    "# MultinomialNB \n",
    "model = MultinomialNB(alpha = 1.0111)\n",
    "model.fit(X_train , y_train)\n",
    "print(\"MultinomialNB: \",model.score(X_test , y_test))\n",
    "\n",
    "# SVC\n",
    "model1 = SVC(C = 11.11 ,gamma=1.11 ,degree= 6)\n",
    "model1.fit(X_train , y_train)\n",
    "print(\"SVC: \",model1.score(X_test , y_test))\n",
    "\n",
    "# GaussianNB \n",
    "model2 = GaussianNB()\n",
    "model2.fit(X_train , y_train)\n",
    "print(\"GaussianNB: \",model2.score(X_test , y_test))\n",
    "\n",
    "\n",
    "# KNeighborsClassifier\n",
    "model3 = KNeighborsClassifier(n_neighbors= 100)\n",
    "model3.fit(X_train , y_train)\n",
    "print(\"NearestNeighbors: \",model3.score(X_test , y_test))\n",
    "\n",
    "\n",
    "# DecisionTreeClassifier\n",
    "model4= DecisionTreeClassifier(max_depth = 100)\n",
    "model4.fit(X_train , y_train)\n",
    "print(\"DecisionTreeClassifier: \",model4.score(X_test , y_test))\n",
    "\n",
    "# LogisticRegression\n",
    "model5=LogisticRegression(random_state=42)\n",
    "model5.fit(X_train , y_train)\n",
    "print(\"LogisticRegression: \",model5.score(X_test , y_test))\n",
    "\n",
    "\n",
    "# RandomForestClassifier\n",
    "model6= RandomForestClassifier(n_estimators  = 100 ,random_state=42)\n",
    "model6.fit(X_train , y_train)\n",
    "print(\"RandomForestClassifier: \",model6.score(X_test , y_test) )\n"
   ]
  },
  {
   "cell_type": "markdown",
   "id": "2b6f66c2",
   "metadata": {},
   "source": [
    "## Create Voting Model "
   ]
  },
  {
   "cell_type": "code",
   "execution_count": 57,
   "id": "2e3b8634",
   "metadata": {},
   "outputs": [
    {
     "name": "stdout",
     "output_type": "stream",
     "text": [
      "Accuracy of the loaded model: 0.861\n"
     ]
    }
   ],
   "source": [
    "from sklearn.ensemble import VotingClassifier\n",
    "\n",
    "ensemble_model = VotingClassifier(estimators=[('svm', model1), ('lr', model5) , ('mnb', model)], voting='hard')\n",
    "ensemble_model = ensemble_model.fit(X_train, y_train)\n",
    "\n",
    "accuracy = ensemble_model.score(X_test, y_test)\n",
    "print('Accuracy of the loaded model:', accuracy)\n"
   ]
  },
  {
   "cell_type": "markdown",
   "id": "70e5521c",
   "metadata": {},
   "source": [
    "### save model"
   ]
  },
  {
   "cell_type": "code",
   "execution_count": 60,
   "id": "86f97586",
   "metadata": {},
   "outputs": [],
   "source": [
    "import pickle\n",
    "\n",
    "\n",
    "# Save the trained model to a file\n",
    "with open('model.pkl', 'wb') as file:\n",
    "    pickle.dump(ensemble_model , file)"
   ]
  },
  {
   "cell_type": "markdown",
   "id": "43ca9b67",
   "metadata": {},
   "source": [
    "### save vocabulary & idf_values"
   ]
  },
  {
   "cell_type": "code",
   "execution_count": 61,
   "id": "a731f927",
   "metadata": {},
   "outputs": [
    {
     "name": "stdout",
     "output_type": "stream",
     "text": [
      "vocabulary saved successfully to file\n"
     ]
    }
   ],
   "source": [
    "import pickle\n",
    "\n",
    "np.save('idf_values.npy', idf_values)\n",
    "\n",
    "with open('vocabulary.pkl', 'wb') as fp:\n",
    "    pickle.dump(vocabulary, fp)\n",
    "    print('vocabulary saved successfully to file')"
   ]
  },
  {
   "cell_type": "code",
   "execution_count": null,
   "id": "de1c5723",
   "metadata": {},
   "outputs": [],
   "source": []
  },
  {
   "cell_type": "code",
   "execution_count": null,
   "id": "9ce7fb9b",
   "metadata": {},
   "outputs": [],
   "source": []
  },
  {
   "cell_type": "code",
   "execution_count": null,
   "id": "5b1e1721",
   "metadata": {},
   "outputs": [],
   "source": []
  },
  {
   "cell_type": "code",
   "execution_count": null,
   "id": "3900cc03",
   "metadata": {},
   "outputs": [],
   "source": []
  }
 ],
 "metadata": {
  "kernelspec": {
   "display_name": "Python 3 (ipykernel)",
   "language": "python",
   "name": "python3"
  },
  "language_info": {
   "codemirror_mode": {
    "name": "ipython",
    "version": 3
   },
   "file_extension": ".py",
   "mimetype": "text/x-python",
   "name": "python",
   "nbconvert_exporter": "python",
   "pygments_lexer": "ipython3",
   "version": "3.9.16"
  }
 },
 "nbformat": 4,
 "nbformat_minor": 5
}
